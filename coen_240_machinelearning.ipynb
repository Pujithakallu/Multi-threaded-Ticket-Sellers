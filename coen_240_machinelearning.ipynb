{
  "nbformat": 4,
  "nbformat_minor": 0,
  "metadata": {
    "colab": {
      "provenance": [],
      "authorship_tag": "ABX9TyN5QCu3N6O1rjwe3bTX5dvu",
      "include_colab_link": true
    },
    "kernelspec": {
      "name": "python3",
      "display_name": "Python 3"
    },
    "language_info": {
      "name": "python"
    }
  },
  "cells": [
    {
      "cell_type": "markdown",
      "metadata": {
        "id": "view-in-github",
        "colab_type": "text"
      },
      "source": [
        "<a href=\"https://colab.research.google.com/github/Pujithakallu/Multi-threaded-Ticket-Sellers/blob/main/coen_240_machinelearning.ipynb\" target=\"_parent\"><img src=\"https://colab.research.google.com/assets/colab-badge.svg\" alt=\"Open In Colab\"/></a>"
      ]
    },
    {
      "cell_type": "code",
      "execution_count": 9,
      "metadata": {
        "colab": {
          "base_uri": "https://localhost:8080/"
        },
        "id": "ttPUvMWPROJk",
        "outputId": "fe9fb2d4-c16e-4a34-e5cd-fc4eb4fabace"
      },
      "outputs": [
        {
          "output_type": "stream",
          "name": "stdout",
          "text": [
            "output from code method1:\n",
            "True\n",
            "False\n",
            "output from code method2:\n",
            "True\n",
            "False\n"
          ]
        }
      ],
      "source": [
        "#1). Write a python function that takes a sequence of numbers and determines if all the numbers are\n",
        "#distinct from each other or if there are any duplicates.\n",
        "#Method 1:\n",
        "def test_distinct(data):\n",
        "\n",
        "# Convert the sequence to a set and compare lengths to check for duplicates\n",
        "# If lengths are equal, it means all numbers are distinct, return True\n",
        "# If lengths are not equal, it means duplicates exist, return False\n",
        "\n",
        " return len(data) == len(set(data))\n",
        "\n",
        "print(\"output from code method1:\")\n",
        "print(test_distinct([1,5,7,9]))\n",
        "print(test_distinct([2,4,5,5,7,9]))\n",
        "\n",
        "\n",
        "#method 2:\n",
        "\n",
        "def test_distinct(data):\n",
        "  if len(data) == len(set(data)): #convert the data into set\n",
        "    return True\n",
        "  else:\n",
        "    return False;\n",
        "print(\"output from code method2:\")\n",
        "print(test_distinct([1,5,7,9]))\n",
        "print(test_distinct([2,4,5,5,7,9]))"
      ]
    },
    {
      "cell_type": "code",
      "source": [
        "#2). Write a python function to find indices of elements that are equal to zero in a numpy array.\n",
        "#method1\n",
        "import numpy as np\n",
        "\n",
        "def zero_index(numpy_array):\n",
        "\n",
        " # Use np.where() to find the indices of elements equal to zero\n",
        "    indices = np.where(numpy_array == 0)[0]\n",
        "    # Convert the indices to a comma-separated string within square brackets without quotes\n",
        "    indices_str = '[' + ', '.join(map(str, indices)) + ']'\n",
        "    return indices_str\n",
        "\n",
        "zero_index(np.array([1,0,2,0,3,0,4,5,6,7,8]))\n"
      ],
      "metadata": {
        "colab": {
          "base_uri": "https://localhost:8080/",
          "height": 35
        },
        "id": "_tMIyS43U9hu",
        "outputId": "27d681eb-bf35-4306-c8aa-ab39f22bbd87"
      },
      "execution_count": 24,
      "outputs": [
        {
          "output_type": "execute_result",
          "data": {
            "text/plain": [
              "'[1, 3, 5]'"
            ],
            "application/vnd.google.colaboratory.intrinsic+json": {
              "type": "string"
            }
          },
          "metadata": {},
          "execution_count": 24
        }
      ]
    },
    {
      "cell_type": "code",
      "source": [
        "#3). Write a program to compute and print the Mean Squared Error (MSE)..\n",
        "import numpy as np\n",
        "\n",
        "# Define the given values\n",
        "w = np.array([0.25, 0.75])\n",
        "x = np.array([100, 200, 300, 400, 500])\n",
        "y = np.array([65, 155, 220, 310, 370])\n",
        "\n",
        "# Calculate the predicted y values\n",
        "y_pred = w[0] + w[1] * x\n",
        "\n",
        "# Compute the Mean Squared Error (MSE)\n",
        "mse = np.mean((y_pred - y) ** 2)\n",
        "\n",
        "print(\"Mean Squared Error (MSE):\", mse)\n"
      ],
      "metadata": {
        "colab": {
          "base_uri": "https://localhost:8080/"
        },
        "id": "GugaeTJs6CRH",
        "outputId": "7a46576a-e961-442f-ee04-1f88fb7a3cad"
      },
      "execution_count": 25,
      "outputs": [
        {
          "output_type": "stream",
          "name": "stdout",
          "text": [
            "Mean Squared Error (MSE): 55.5625\n"
          ]
        }
      ]
    }
  ]
}